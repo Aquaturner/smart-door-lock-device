{
  "nbformat": 4,
  "nbformat_minor": 0,
  "metadata": {
    "colab": {
      "provenance": []
    },
    "kernelspec": {
      "name": "python3",
      "display_name": "Python 3"
    },
    "language_info": {
      "name": "python"
    }
  },
  "cells": [
    {
      "cell_type": "code",
      "source": [
        "!pip install ultralytics"
      ],
      "metadata": {
        "id": "lwH04KXPhNFC"
      },
      "execution_count": null,
      "outputs": []
    },
    {
      "cell_type": "code",
      "source": [
        "from google.colab import files\n",
        "from ultralytics import YOLO\n",
        "\n",
        "# Upload file\n",
        "uploaded = files.upload()\n",
        "file_paths = list(uploaded.keys())\n",
        "print(f\"Uploaded files: {file_paths}\")\n",
        "\n",
        "# Load YOLO model\n",
        "model = YOLO('yolov8n.pt')\n",
        "\n",
        "# Perform inference\n",
        "for file_path in file_paths:\n",
        "    print(f\"Processing file: {file_path}\")\n",
        "    results = model(file_path, classes=[0])\n",
        "    results[0].show()"
      ],
      "metadata": {
        "id": "J3gi4PWKS8iC"
      },
      "execution_count": null,
      "outputs": []
    }
  ]
}